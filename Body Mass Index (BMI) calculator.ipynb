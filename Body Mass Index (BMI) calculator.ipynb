{
 "cells": [
  {
   "cell_type": "code",
   "execution_count": 15,
   "metadata": {},
   "outputs": [],
   "source": [
    "# BMI Function\n",
    "def bmi_calculator(weight, height):\n",
    "    bmi = weight/ ((height/100) ** 2)\n",
    "    return bmi "
   ]
  },
  {
   "cell_type": "code",
   "execution_count": 26,
   "metadata": {},
   "outputs": [
    {
     "name": "stdout",
     "output_type": "stream",
     "text": [
      "What is your weight?: 75\n",
      "What is your height (cm)?: 175\n",
      "Your BMI is 24.489795918367346\n",
      "You have a normal weight\n"
     ]
    }
   ],
   "source": [
    "weight = float(input('What is your weight?: '))\n",
    "height = float(input('What is your height (cm)?: '))\n",
    "bmi = bmi_calculator(weight, height)\n",
    "print(\"Your BMI is {}\".format(bmi))\n",
    "\n",
    "\n",
    "if bmi < 18.5:\n",
    "    print(\"You are underweight\")\n",
    "elif bmi >= 18.5 and bmi < 25:\n",
    "    print(\"You have a normal weight\")\n",
    "elif bmi >= 25 and bmi < 30:\n",
    "    print(\"You are Overweight\")\n",
    "else :\n",
    "    print(\"You are Obese\")\n",
    "\n"
   ]
  },
  {
   "cell_type": "code",
   "execution_count": null,
   "metadata": {},
   "outputs": [],
   "source": []
  }
 ],
 "metadata": {
  "kernelspec": {
   "display_name": "Python 3",
   "language": "python",
   "name": "python3"
  },
  "language_info": {
   "codemirror_mode": {
    "name": "ipython",
    "version": 3
   },
   "file_extension": ".py",
   "mimetype": "text/x-python",
   "name": "python",
   "nbconvert_exporter": "python",
   "pygments_lexer": "ipython3",
   "version": "3.8.5"
  }
 },
 "nbformat": 4,
 "nbformat_minor": 4
}
